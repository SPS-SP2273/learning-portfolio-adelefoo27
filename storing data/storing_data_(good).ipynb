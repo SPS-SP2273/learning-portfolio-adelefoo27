{
 "cells": [
  {
   "cell_type": "markdown",
   "id": "123456",
   "metadata": {},
   "source": [
    "<div style=\"text-align:left;font-size:2em\"><span style=\"font-weight:bolder;font-size:1.25em\">SP2273 | Learning Portfolio</span><br><br><span style=\"font-weight:bold;color:darkred\">Storing Data (Good)</span></div>"
   ]
  },
  {
   "cell_type": "markdown",
   "id": "124892d4",
   "metadata": {},
   "source": [
    "## 1 Subsetting: Indexing and Slicing"
   ]
  },
  {
   "cell_type": "markdown",
   "id": "e35de678",
   "metadata": {},
   "source": [
    "### 1.1 Indexing & Slicing 1D (Lists & Arrays)"
   ]
  },
  {
   "cell_type": "code",
   "execution_count": 7,
   "id": "01a09435",
   "metadata": {},
   "outputs": [
    {
     "data": {
      "text/plain": [
       "['d4', 'e5']"
      ]
     },
     "execution_count": 7,
     "metadata": {},
     "output_type": "execute_result"
    }
   ],
   "source": [
    "import numpy as np\n",
    "py_list=[\"a1\", \"b2\", \"c3\", \"d4\", \"e5\",\n",
    "         \"f6\", \"g7\", \"h8\", \"i9\", \"j10\"]\n",
    "np_array=np.array(py_list)\n",
    "\n",
    "# Pick one\n",
    "x = py_list \n",
    "x[1:6]\n",
    "x[1:6:2]\n",
    "x[3:5]\n"
   ]
  },
  {
   "cell_type": "markdown",
   "id": "506440fd",
   "metadata": {},
   "source": [
    "### 1.2 Subsetting by masking (Arrays only)"
   ]
  },
  {
   "cell_type": "code",
   "execution_count": 11,
   "id": "84e9ca4f",
   "metadata": {},
   "outputs": [
    {
     "name": "stdout",
     "output_type": "stream",
     "text": [
      "[False False False  True  True  True  True  True  True  True]\n"
     ]
    },
    {
     "data": {
      "text/plain": [
       "array([1, 2, 3])"
      ]
     },
     "execution_count": 11,
     "metadata": {},
     "output_type": "execute_result"
    }
   ],
   "source": [
    "np_array = np.array([1, 2, 3, 4, 5, 6, 7, 8, 9, 10])\n",
    "my_mask = np_array > 3\n",
    "print(my_mask)\n",
    "np_array[my_mask]\n",
    "np_array[np_array > 3]\n",
    "np_array[~(np_array > 3)]                         # '~' means 'NOT'"
   ]
  },
  {
   "cell_type": "markdown",
   "id": "17c52398",
   "metadata": {},
   "source": [
    "### 1.3 Indexing & Slicing 2D Lists"
   ]
  },
  {
   "cell_type": "code",
   "execution_count": 16,
   "id": "416ae33f",
   "metadata": {},
   "outputs": [
    {
     "data": {
      "text/plain": [
       "[1, 'A']"
      ]
     },
     "execution_count": 16,
     "metadata": {},
     "output_type": "execute_result"
    }
   ],
   "source": [
    "py_list_2d = [[1, \"A\"], [2, \"B\"], [3, \"C\"], [4, \"D\"],\n",
    "              [5, \"E\"], [6, \"F\"], [7, \"G\"], [8, \"H\"],\n",
    "              [9, \"I\"], [10, \"J\"]]\n",
    "py_list_2d[3]        # What is at position 4 (index 3)?\n",
    "py_list_2d[3][0]     # FIRST element at position 4 (index 3)\n",
    "py_list_2d[0:3]\n",
    "py_list_2d[:3][0]  #You might think that this will yield the first elements (i.e. [1, 2, 3]) of all the sub-lists up to index 2; No! Instead, it gives the first of the list you get from py_list_2d[:3]."
   ]
  },
  {
   "cell_type": "markdown",
   "id": "f2c11e5b",
   "metadata": {},
   "source": [
    "### 1.4 Indexing & Slicing 2D Arrays"
   ]
  },
  {
   "cell_type": "code",
   "execution_count": 22,
   "id": "3db953c6",
   "metadata": {},
   "outputs": [
    {
     "data": {
      "text/plain": [
       "array(['1', '2', '3', '4', '5', '6', '7', '8', '9', '10'], dtype='<U21')"
      ]
     },
     "execution_count": 22,
     "metadata": {},
     "output_type": "execute_result"
    }
   ],
   "source": [
    "np_array_2d = np.array([[1, \"A\"], [2, \"B\"], [3, \"C\"], [4, \"D\"],\n",
    "                        [5, \"E\"], [6, \"F\"], [7, \"G\"], [8, \"H\"],\n",
    "                        [9, \"I\"], [10, \"J\"]])\n",
    "np_array_2d[3]       # What is at position 4 (index 3)?\n",
    "np_array_2d[3, 0]    # FIRST element at position 4 (index 3)\n",
    "np_array_2d[:3]\n",
    "np_array_2d[:3, 0]\n",
    "np_array_2d[3:6, 0]\n",
    "np_array_2d[:, 0]"
   ]
  },
  {
   "cell_type": "markdown",
   "id": "f3e54402",
   "metadata": {},
   "source": [
    "### 1.5 Growing lists"
   ]
  },
  {
   "cell_type": "code",
   "execution_count": 25,
   "id": "c80314fa",
   "metadata": {},
   "outputs": [
    {
     "data": {
      "text/plain": [
       "[1, 2, 3, 4]"
      ]
     },
     "execution_count": 25,
     "metadata": {},
     "output_type": "execute_result"
    }
   ],
   "source": [
    "x=[1]*10\n",
    "x               # I am lazy to type print()\n",
    "                # Let Jupyter do the hard work.\n",
    "x=[1]\n",
    "x+= [2, 3, 4]\n",
    "x\n",
    "x=[1]\n",
    "x+= [2, 3, 4]\n",
    "x\n",
    "x=[1]\n",
    "x.append(2)\n",
    "x.append(3)\n",
    "x.append(4)\n",
    "x"
   ]
  },
  {
   "cell_type": "markdown",
   "id": "8eca66f0",
   "metadata": {},
   "source": [
    "## 2 Some loose ends"
   ]
  },
  {
   "cell_type": "markdown",
   "id": "28325ee8",
   "metadata": {},
   "source": [
    "### 2.1 Tuples"
   ]
  },
  {
   "cell_type": "code",
   "execution_count": 27,
   "id": "de6b828c",
   "metadata": {},
   "outputs": [
    {
     "name": "stdout",
     "output_type": "stream",
     "text": [
      "1\n"
     ]
    }
   ],
   "source": [
    "a=(1, 2, 3)     # Define tuple\n",
    "print(a[0])    # Access data"
   ]
  },
  {
   "cell_type": "markdown",
   "id": "fb34803d",
   "metadata": {},
   "source": [
    "### 2.2 Be VERY careful when copying"
   ]
  },
  {
   "cell_type": "code",
   "execution_count": 28,
   "id": "726f03c4",
   "metadata": {},
   "outputs": [],
   "source": [
    "x=[1, 2, 3]\n",
    "y=x.copy()\n",
    "z=x.copy()\n"
   ]
  },
  {
   "cell_type": "markdown",
   "id": "8c1a024e",
   "metadata": {},
   "source": [
    "## Exercise 1 :  Total recall?"
   ]
  },
  {
   "cell_type": "markdown",
   "id": "aabbd32d",
   "metadata": {},
   "source": [
    "Term|Brief description\n",
    ":--:|:--:\n",
    "Subsetting| _It is when we select a subset of data in a list_\n",
    "Indexing|_It refers to selecting one element_\n",
    "Slicing|_It refers to selecting a range of elements_\n",
    "Masking|It replaces the values"
   ]
  },
  {
   "cell_type": "markdown",
   "id": "7ab40542",
   "metadata": {},
   "source": [
    "## Exercise 2 :  Show me the ‘odd’ letters"
   ]
  },
  {
   "cell_type": "code",
   "execution_count": 1,
   "id": "734ce83a",
   "metadata": {},
   "outputs": [
    {
     "name": "stdout",
     "output_type": "stream",
     "text": [
      "a1 c3 e5 g7 i9\n"
     ]
    }
   ],
   "source": [
    "py_list = [\"a1\", \"b2\", \"c3\", \"d4\", \"e5\", \"f6\", \"g7\", \"h8\", \"i9\", \"j10\"]\n",
    "print(py_list[0],py_list[2],py_list[4],py_list[6],py_list[8])"
   ]
  }
 ],
 "metadata": {
  "kernelspec": {
   "display_name": "Python 3 (ipykernel)",
   "language": "python",
   "name": "python3"
  },
  "language_info": {
   "codemirror_mode": {
    "name": "ipython",
    "version": 3
   },
   "file_extension": ".py",
   "mimetype": "text/x-python",
   "name": "python",
   "nbconvert_exporter": "python",
   "pygments_lexer": "ipython3",
   "version": "3.10.8"
  },
  "toc": {
   "base_numbering": 1,
   "nav_menu": {},
   "number_sections": true,
   "sideBar": true,
   "skip_h1_title": false,
   "title_cell": "Table of Contents",
   "title_sidebar": "Contents",
   "toc_cell": false,
   "toc_position": {},
   "toc_section_display": true,
   "toc_window_display": false
  },
  "vscode": {
   "interpreter": {
    "hash": "31f2aee4e71d21fbe5cf8b01ff0e069b9275f58929596ceb00d14d90e3e16cd6"
   }
  }
 },
 "nbformat": 4,
 "nbformat_minor": 5
}
