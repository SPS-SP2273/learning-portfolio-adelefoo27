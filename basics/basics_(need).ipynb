{
 "cells": [
  {
   "cell_type": "markdown",
   "id": "123456",
   "metadata": {},
   "source": [
    "<div style=\"text-align:left;font-size:2em\"><span style=\"font-weight:bolder;font-size:1.25em\">SP2273 | Learning Portfolio</span><br><br><span style=\"font-weight:bold;color:darkred\">Basics (Need)</span></div>"
   ]
  },
  {
   "cell_type": "markdown",
   "id": "ec2099eb",
   "metadata": {},
   "source": [
    "## 1 Some Python Basics"
   ]
  },
  {
   "cell_type": "markdown",
   "id": "61a3f58f",
   "metadata": {},
   "source": [
    "### 1.1 Functions"
   ]
  },
  {
   "cell_type": "code",
   "execution_count": 1,
   "id": "58e5fb1c",
   "metadata": {},
   "outputs": [
    {
     "name": "stdout",
     "output_type": "stream",
     "text": [
      "Hello world!\n"
     ]
    }
   ],
   "source": [
    "\n",
    "print('Hello world!')\n"
   ]
  },
  {
   "cell_type": "markdown",
   "id": "a24af4e8",
   "metadata": {},
   "source": [
    "### 1.2 Python is interpreted"
   ]
  },
  {
   "cell_type": "code",
   "execution_count": 2,
   "id": "4f7ec5fb",
   "metadata": {},
   "outputs": [
    {
     "name": "stdout",
     "output_type": "stream",
     "text": [
      "Hello World\n",
      "Hello World again\n"
     ]
    }
   ],
   "source": [
    "print('Hello World')\n",
    "print('Hello World again')\n"
   ]
  },
  {
   "cell_type": "markdown",
   "id": "6f5ae2f2",
   "metadata": {},
   "source": [
    "### 1.3 Python is sensitive."
   ]
  },
  {
   "cell_type": "code",
   "execution_count": 3,
   "id": "ee7f3bb1",
   "metadata": {},
   "outputs": [
    {
     "ename": "NameError",
     "evalue": "name 'Print' is not defined",
     "output_type": "error",
     "traceback": [
      "\u001b[0;31m---------------------------------------------------------------------------\u001b[0m",
      "\u001b[0;31mNameError\u001b[0m                                 Traceback (most recent call last)",
      "Cell \u001b[0;32mIn[3], line 1\u001b[0m\n\u001b[0;32m----> 1\u001b[0m \u001b[43mPrint\u001b[49m(\u001b[38;5;124m'\u001b[39m\u001b[38;5;124mHello World\u001b[39m\u001b[38;5;124m'\u001b[39m) \n",
      "\u001b[0;31mNameError\u001b[0m: name 'Print' is not defined"
     ]
    }
   ],
   "source": [
    "\n",
    "Print('Hello World') \n"
   ]
  },
  {
   "cell_type": "markdown",
   "id": "461c4f6a",
   "metadata": {},
   "source": [
    "### 1.4 Comments"
   ]
  },
  {
   "cell_type": "code",
   "execution_count": 4,
   "id": "63216346",
   "metadata": {},
   "outputs": [
    {
     "name": "stdout",
     "output_type": "stream",
     "text": [
      "Hello world\n"
     ]
    }
   ],
   "source": [
    "\n",
    "print(\"Hello world\" )     # Printing \"Hello World.\"\n"
   ]
  },
  {
   "cell_type": "markdown",
   "id": "db3cb762",
   "metadata": {},
   "source": [
    "### 1.5 = is not the same as =="
   ]
  },
  {
   "cell_type": "code",
   "execution_count": 6,
   "id": "6f9216cc",
   "metadata": {},
   "outputs": [
    {
     "data": {
      "text/plain": [
       "True"
      ]
     },
     "execution_count": 6,
     "metadata": {},
     "output_type": "execute_result"
    }
   ],
   "source": [
    "\n",
    "name = 'Batman'            # Make name carry 'Batman'\n",
    "name == 'Batman'           # Tell me if name is equal to 'Batman'?\n",
    "                           # Answer:  True or False"
   ]
  },
  {
   "cell_type": "markdown",
   "id": "03a785d5",
   "metadata": {},
   "source": [
    "### 1.6 Use if to make decisions"
   ]
  },
  {
   "cell_type": "code",
   "execution_count": 7,
   "id": "b83354f1",
   "metadata": {},
   "outputs": [
    {
     "name": "stdout",
     "output_type": "stream",
     "text": [
      "Hello Hero | Batman!\n"
     ]
    }
   ],
   "source": [
    "\n",
    "name = 'Batman'\n",
    "\n",
    "if name == 'Batman':\n",
    "    print('Hello Hero | Batman!')\n",
    "else:\n",
    "    print('Hello World!')\n"
   ]
  },
  {
   "cell_type": "markdown",
   "id": "27aa1fe0",
   "metadata": {},
   "source": [
    "### 1.7 Indentations (spaces) are sooo IMPORTANT!"
   ]
  },
  {
   "cell_type": "code",
   "execution_count": 11,
   "id": "76f116bd",
   "metadata": {},
   "outputs": [
    {
     "ename": "IndentationError",
     "evalue": "unexpected indent (704599127.py, line 3)",
     "output_type": "error",
     "traceback": [
      "\u001b[0;36m  Cell \u001b[0;32mIn[11], line 3\u001b[0;36m\u001b[0m\n\u001b[0;31m    print(x) #this will not work\u001b[0m\n\u001b[0m    ^\u001b[0m\n\u001b[0;31mIndentationError\u001b[0m\u001b[0;31m:\u001b[0m unexpected indent\n"
     ]
    }
   ],
   "source": [
    "x=10\n",
    "print(x) #this will work\n",
    " print(x) #this will not work\n"
   ]
  },
  {
   "cell_type": "markdown",
   "id": "665f3800",
   "metadata": {},
   "source": [
    "### 1.8 ‘age’ is English, age is a variable."
   ]
  },
  {
   "cell_type": "code",
   "execution_count": 14,
   "id": "1daad56f",
   "metadata": {},
   "outputs": [
    {
     "name": "stdout",
     "output_type": "stream",
     "text": [
      "24\n",
      "age\n",
      "you are twenty years old\n"
     ]
    }
   ],
   "source": [
    "age = 24\n",
    "print(age)       # Print the value of the variable age\n",
    "print(\"age\")     # Print the English word 'age'\n",
    "print(\"you are twenty years old\")\n"
   ]
  },
  {
   "cell_type": "markdown",
   "id": "59b5595c",
   "metadata": {},
   "source": [
    "### 1.9 Escape sequences"
   ]
  },
  {
   "cell_type": "code",
   "execution_count": 17,
   "id": "8e80538f",
   "metadata": {},
   "outputs": [
    {
     "name": "stdout",
     "output_type": "stream",
     "text": [
      "You're twenty years old.\n",
      "A\n",
      "B\n",
      "C\n",
      "A\tB\tC\n"
     ]
    }
   ],
   "source": [
    "\n",
    "print('You\\'re twenty years old.')\n",
    "print('A\\nB\\nC')\n",
    "print('A\\tB\\tC')"
   ]
  },
  {
   "cell_type": "markdown",
   "id": "70b05b04",
   "metadata": {},
   "source": [
    "### 1.10 Brackets"
   ]
  },
  {
   "cell_type": "code",
   "execution_count": 23,
   "id": "b0209231",
   "metadata": {},
   "outputs": [
    {
     "name": "stdout",
     "output_type": "stream",
     "text": [
      "[[1, 'A'], [2, 'B'], [3, 'C'], [4, 'D'], [5, 'E']]\n"
     ]
    }
   ],
   "source": [
    "\n",
    "(1 + 2) * 5 \n",
    "y_list = [1, 2, 3, 4, 5]   \n",
    "\n",
    "py_list_2 = [[1, \"A\"],      \n",
    "             [2, \"B\"],\n",
    "             [3, \"C\"],\n",
    "             [4, \"D\"],\n",
    "             [5, \"E\"]]\n",
    "print(py_list_2)\n"
   ]
  },
  {
   "cell_type": "markdown",
   "id": "e6f41c96",
   "metadata": {},
   "source": [
    "## 2 Giving Python superpowers"
   ]
  },
  {
   "cell_type": "markdown",
   "id": "0ed5d4cd",
   "metadata": {},
   "source": [
    "### 2.1 Packages"
   ]
  },
  {
   "cell_type": "code",
   "execution_count": 28,
   "id": "6df9a8df",
   "metadata": {},
   "outputs": [
    {
     "data": {
      "text/plain": [
       "65.89385403814228"
      ]
     },
     "execution_count": 28,
     "metadata": {},
     "output_type": "execute_result"
    }
   ],
   "source": [
    "\n",
    "1*((2-3)+4)**5/6\n",
    "import math\n",
    "math.sqrt(88)\n",
    "import numpy as np\n",
    "np.sqrt(4342)\n"
   ]
  },
  {
   "cell_type": "markdown",
   "id": "c64825f8",
   "metadata": {},
   "source": [
    "### 2.2 The dot (.)"
   ]
  },
  {
   "cell_type": "code",
   "execution_count": 30,
   "id": "711e10fe",
   "metadata": {},
   "outputs": [
    {
     "data": {
      "text/plain": [
       "['I', 'am', 'Batman']"
      ]
     },
     "execution_count": 30,
     "metadata": {},
     "output_type": "execute_result"
    }
   ],
   "source": [
    "\n",
    "np.sqrt([4, 9, 16])\n",
    "\"I am Batman\".split()"
   ]
  },
  {
   "cell_type": "markdown",
   "id": "0a14e87b",
   "metadata": {},
   "source": [
    "## Exercise 1 :  Total recall?"
   ]
  },
  {
   "cell_type": "markdown",
   "id": "e73cd308",
   "metadata": {},
   "source": [
    "1. the dot\n",
    "2. math function\n",
    "3. age\n",
    "4. brackets\n",
    "5. = and ==\n",
    "\n",
    "\n"
   ]
  },
  {
   "cell_type": "markdown",
   "id": "6ecb45cd",
   "metadata": {},
   "source": [
    "## Exercise 2 :  Debug me"
   ]
  },
  {
   "cell_type": "code",
   "execution_count": 6,
   "id": "15abe4f4",
   "metadata": {},
   "outputs": [
    {
     "name": "stdout",
     "output_type": "stream",
     "text": [
      "3 4 5.0\n"
     ]
    }
   ],
   "source": [
    "\n",
    "x, y= 3, 4\n",
    "import math\n",
    "z = math.sqrt(x**2 + y**2)\n",
    "print(x, y, z)\n",
    "\n",
    "\n"
   ]
  },
  {
   "cell_type": "markdown",
   "id": "f1dae350",
   "metadata": {},
   "source": [
    "## Exercise 3 :  In your own words"
   ]
  },
  {
   "cell_type": "markdown",
   "id": "85f4cc61",
   "metadata": {},
   "source": [
    "#| Term| Description\n",
    ":--|:--:|--:\n",
    "1|Function| it is something that carries out a particular task\n",
    "2|Arguments| it is a value that is passed to a function when called\n",
    "3|Comments|it is used to emphasise something about the code which will be ignored by python\n",
    "4|Indentations| it is used to identify a true or false statement \n",
    "5|Packages| it is a collection of modules\n",
    "6|.|It is used to mark what the function belongs to\n",
    "\n",
    "\n"
   ]
  },
  {
   "cell_type": "markdown",
   "id": "3bf7aabc",
   "metadata": {},
   "source": [
    "## Exercise 4 :  More than one way to divide"
   ]
  },
  {
   "cell_type": "code",
   "execution_count": 10,
   "id": "52de9609",
   "metadata": {},
   "outputs": [
    {
     "data": {
      "text/plain": [
       "1"
      ]
     },
     "execution_count": 10,
     "metadata": {},
     "output_type": "execute_result"
    }
   ],
   "source": [
    "5/2  #normal division\n",
    "5//2  #normal division but rounds down the answer \n",
    "5%2  #finds the modulus of both integers\n",
    "\n",
    "\n"
   ]
  }
 ],
 "metadata": {
  "kernelspec": {
   "display_name": "Python 3 (ipykernel)",
   "language": "python",
   "name": "python3"
  },
  "language_info": {
   "codemirror_mode": {
    "name": "ipython",
    "version": 3
   },
   "file_extension": ".py",
   "mimetype": "text/x-python",
   "name": "python",
   "nbconvert_exporter": "python",
   "pygments_lexer": "ipython3",
   "version": "3.10.8"
  },
  "toc": {
   "base_numbering": 1,
   "nav_menu": {},
   "number_sections": true,
   "sideBar": true,
   "skip_h1_title": false,
   "title_cell": "Table of Contents",
   "title_sidebar": "Contents",
   "toc_cell": false,
   "toc_position": {},
   "toc_section_display": true,
   "toc_window_display": false
  },
  "vscode": {
   "interpreter": {
    "hash": "31f2aee4e71d21fbe5cf8b01ff0e069b9275f58929596ceb00d14d90e3e16cd6"
   }
  }
 },
 "nbformat": 4,
 "nbformat_minor": 5
}
