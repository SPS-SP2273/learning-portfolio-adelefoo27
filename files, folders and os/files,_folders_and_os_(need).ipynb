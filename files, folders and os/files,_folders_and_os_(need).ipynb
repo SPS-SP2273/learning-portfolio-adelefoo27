{
 "cells": [
  {
   "cell_type": "markdown",
   "id": "123456",
   "metadata": {},
   "source": [
    "<div style=\"text-align:left;font-size:2em\"><span style=\"font-weight:bolder;font-size:1.25em\">SP2273 | Learning Portfolio</span><br><br><span style=\"font-weight:bold;color:darkred\">Files, Folders and OS (Need)</span></div>"
   ]
  },
  {
   "cell_type": "markdown",
   "id": "198edb54",
   "metadata": {},
   "source": [
    "## 1 Important concepts"
   ]
  },
  {
   "cell_type": "markdown",
   "id": "da3352ac",
   "metadata": {},
   "source": [
    "### 1.1 Path"
   ]
  },
  {
   "cell_type": "code",
   "execution_count": null,
   "id": "8057dfbe",
   "metadata": {},
   "outputs": [],
   "source": []
  },
  {
   "cell_type": "markdown",
   "id": "8f589a59",
   "metadata": {},
   "source": [
    "### 1.2 More about relative paths"
   ]
  },
  {
   "cell_type": "code",
   "execution_count": null,
   "id": "29da3144",
   "metadata": {},
   "outputs": [],
   "source": []
  },
  {
   "cell_type": "markdown",
   "id": "3d187cf2",
   "metadata": {},
   "source": [
    "### 1.3 Path separator"
   ]
  },
  {
   "cell_type": "code",
   "execution_count": null,
   "id": "66afb5bc",
   "metadata": {},
   "outputs": [],
   "source": []
  },
  {
   "cell_type": "markdown",
   "id": "35015270",
   "metadata": {},
   "source": [
    "### Text files vs Binary files"
   ]
  },
  {
   "cell_type": "code",
   "execution_count": null,
   "id": "02159d8c",
   "metadata": {},
   "outputs": [],
   "source": []
  },
  {
   "cell_type": "markdown",
   "id": "9617e308",
   "metadata": {},
   "source": [
    "### Extentions"
   ]
  },
  {
   "cell_type": "code",
   "execution_count": null,
   "id": "e6d457be",
   "metadata": {},
   "outputs": [],
   "source": []
  },
  {
   "cell_type": "markdown",
   "id": "549ad1b1",
   "metadata": {},
   "source": [
    "### 1.4 Opening and closing files"
   ]
  },
  {
   "cell_type": "code",
   "execution_count": 4,
   "id": "43778dd7",
   "metadata": {},
   "outputs": [],
   "source": [
    "text = 'Far out in the uncharted backwaters of the unfashionable end of the western spiral arm of the Galaxy lies a small unregarded yellow sun.\\nOrbiting this at a distance of roughly ninety-two million miles is an utterly insignificant little blue green planet whose ape-descended life forms are so amazingly primitive that they still think digital watches are a pretty neat idea.'\n",
    "with open('my-text-once.txt', 'w') as file:\n",
    "    file.write(text)\n",
    "with open('my-text-lines.txt', 'w') as file:\n",
    "    for line in text.splitlines():\n",
    "        file.writelines(line)"
   ]
  },
  {
   "cell_type": "markdown",
   "id": "fe01ff07",
   "metadata": {},
   "source": [
    "## 2 Playing with the OS"
   ]
  },
  {
   "cell_type": "markdown",
   "id": "64d25f5c",
   "metadata": {},
   "source": [
    "### 2.1 Some packages"
   ]
  },
  {
   "cell_type": "code",
   "execution_count": null,
   "id": "d2bfeb25",
   "metadata": {},
   "outputs": [],
   "source": [
    "import os\n",
    "import glob\n",
    "import shutil"
   ]
  },
  {
   "cell_type": "markdown",
   "id": "f965b2e3",
   "metadata": {},
   "source": [
    "### 2.2 OS safe paths"
   ]
  },
  {
   "cell_type": "code",
   "execution_count": 5,
   "id": "be46a784",
   "metadata": {},
   "outputs": [
    {
     "name": "stdout",
     "output_type": "stream",
     "text": [
      "./all-data/sg-data/data-01.txt\n"
     ]
    }
   ],
   "source": [
    "import os\n",
    "path = os.path.join('.', 'all-data', 'sg-data', 'data-01.txt')\n",
    "print(path)"
   ]
  },
  {
   "cell_type": "markdown",
   "id": "99c79930",
   "metadata": {},
   "source": [
    "### 2.3 Creating folders"
   ]
  },
  {
   "cell_type": "code",
   "execution_count": 6,
   "id": "f3fe4a1e",
   "metadata": {},
   "outputs": [
    {
     "name": "stdout",
     "output_type": "stream",
     "text": [
      "Creating people/Jonh\n",
      "Creating people/Paul\n",
      "Creating people/Ringo\n"
     ]
    }
   ],
   "source": [
    "import os\n",
    "os.mkdir('people')\n",
    "\n",
    "for person in ['Jonh', 'Paul', 'Ringo']:\n",
    "    path = os.path.join('people', person)\n",
    "    print(f'Creating {path}')\n",
    "    os.mkdir(path)"
   ]
  },
  {
   "cell_type": "markdown",
   "id": "f3d44ce4",
   "metadata": {},
   "source": [
    "### 2.4 Checking for existence"
   ]
  },
  {
   "cell_type": "code",
   "execution_count": 7,
   "id": "e5b62d23",
   "metadata": {},
   "outputs": [
    {
     "name": "stdout",
     "output_type": "stream",
     "text": [
      "people/Jonh already exists; skipping creation.\n",
      "people/Paul already exists; skipping creation.\n",
      "people/Ringo already exists; skipping creation.\n"
     ]
    }
   ],
   "source": [
    "import os\n",
    "for person in ['Jonh', 'Paul', 'Ringo']:\n",
    "    path = os.path.join('people', person)\n",
    "    try:\n",
    "        os.mkdir(path)\n",
    "        print(f'Creating {path}')\n",
    "    except FileExistsError:\n",
    "        print(f'{path} already exists; skipping creation.')"
   ]
  },
  {
   "cell_type": "markdown",
   "id": "6a521f26",
   "metadata": {},
   "source": [
    "### 2.5 Copying files"
   ]
  },
  {
   "cell_type": "code",
   "execution_count": null,
   "id": "cfb0a45f",
   "metadata": {},
   "outputs": [],
   "source": []
  },
  {
   "cell_type": "markdown",
   "id": "329b8a9f",
   "metadata": {},
   "source": [
    "### 2.6 Listing files"
   ]
  },
  {
   "cell_type": "code",
   "execution_count": 13,
   "id": "483b0160",
   "metadata": {},
   "outputs": [
    {
     "data": {
      "text/plain": [
       "[]"
      ]
     },
     "execution_count": 13,
     "metadata": {},
     "output_type": "execute_result"
    }
   ],
   "source": [
    "import glob\n",
    "glob.glob('*')\n",
    "glob.glob('people/**', recursive=True)\n",
    "glob.glob('people/**/*.png', recursive=True)"
   ]
  },
  {
   "cell_type": "markdown",
   "id": "f960352e",
   "metadata": {},
   "source": [
    "### 2.7 Moving about"
   ]
  },
  {
   "cell_type": "code",
   "execution_count": 16,
   "id": "af39936a",
   "metadata": {},
   "outputs": [
    {
     "data": {
      "text/plain": [
       "'/Users/adelefoo/Documents/GitHub/learning-portfolio-adelefoo27/files, folders and os'"
      ]
     },
     "execution_count": 16,
     "metadata": {},
     "output_type": "execute_result"
    }
   ],
   "source": [
    "os.getcwd()"
   ]
  },
  {
   "cell_type": "markdown",
   "id": "7cbdb0a3",
   "metadata": {},
   "source": [
    "### 2.8 Extracting Info"
   ]
  },
  {
   "cell_type": "code",
   "execution_count": 21,
   "id": "346fe999",
   "metadata": {},
   "outputs": [
    {
     "name": "stdout",
     "output_type": "stream",
     "text": [
      "sp2273_logo.png png\n"
     ]
    },
    {
     "data": {
      "text/plain": [
       "'people/Ringo/imgs'"
      ]
     },
     "execution_count": 21,
     "metadata": {},
     "output_type": "execute_result"
    }
   ],
   "source": [
    "path = 'people/Ringo/imgs/sp2273_logo.png'\n",
    "filename = path.split(os.path.sep)[-1]\n",
    "extension = filename.split('.')[-1]\n",
    "print(filename, extension)\n",
    "path = 'people/Ringo/imgs/sp2273_logo.png'\n",
    "os.path.split(path)      # Split filename from the rest\n",
    "os.path.splitext(path)   # Split extension\n",
    "os.path.dirname(path)    # Show the directory"
   ]
  },
  {
   "cell_type": "markdown",
   "id": "73469593",
   "metadata": {},
   "source": [
    "### 2.9 Deleting stuff"
   ]
  },
  {
   "cell_type": "code",
   "execution_count": 8,
   "id": "24b5891a",
   "metadata": {},
   "outputs": [],
   "source": [
    "import shutil\n",
    "shutil.rmtree('people/Ringo')"
   ]
  },
  {
   "cell_type": "markdown",
   "id": "5619d93b",
   "metadata": {},
   "source": [
    "## Exercise 7 :  The OS is my oyster"
   ]
  },
  {
   "cell_type": "code",
   "execution_count": 25,
   "id": "e145013f",
   "metadata": {},
   "outputs": [
    {
     "data": {
      "text/plain": [
       "'/Users/adelefoo/Documents/GitHub/learning-portfolio-adelefoo27/files, folders and os'"
      ]
     },
     "execution_count": 25,
     "metadata": {},
     "output_type": "execute_result"
    }
   ],
   "source": [
    "os.getcwd()"
   ]
  },
  {
   "cell_type": "code",
   "execution_count": 17,
   "id": "cc3ff746",
   "metadata": {},
   "outputs": [],
   "source": [
    "os.mkdir('python_today3')\n",
    "os.chdir('/Users/adelefoo/Documents/GitHub/learning-portfolio-adelefoo27/files, folders and os/python_today3')"
   ]
  },
  {
   "cell_type": "code",
   "execution_count": 4,
   "id": "aef898cc",
   "metadata": {},
   "outputs": [],
   "source": [
    "import os\n",
    "directories = []\n",
    "number = 1\n",
    "while number < 51:\n",
    "    directories.append(f'new_directory_{number:02d}')\n",
    "    number+=1\n",
    "for directory in directories:\n",
    "    os.mkdir(directory)"
   ]
  },
  {
   "cell_type": "code",
   "execution_count": 5,
   "id": "1a2fd4e9",
   "metadata": {},
   "outputs": [],
   "source": [
    "# directories = []\n",
    "number = 1\n",
    "while number < 51:\n",
    "    os.rmdir(f'new_directory_{number:02d}')\n",
    "    number+=2"
   ]
  },
  {
   "cell_type": "code",
   "execution_count": 8,
   "id": "37639a6d",
   "metadata": {},
   "outputs": [],
   "source": [
    "# directories = []\n",
    "number = 0\n",
    "while number < 51:\n",
    "    number+=5\n",
    "    path=f'new_directory_{number:02d}'\n",
    "    if os.path.exists(path):\n",
    "        os.rename(path, f'haha_{number:02d}')\n",
    "    else:\n",
    "        continue\n",
    "    "
   ]
  },
  {
   "cell_type": "code",
   "execution_count": 2,
   "id": "7cf1aa74",
   "metadata": {},
   "outputs": [
    {
     "data": {
      "text/plain": [
       "[]"
      ]
     },
     "execution_count": 2,
     "metadata": {},
     "output_type": "execute_result"
    }
   ],
   "source": [
    "import glob\n",
    "glob.glob('haha*/*')"
   ]
  },
  {
   "cell_type": "markdown",
   "id": "8f9f4a6e",
   "metadata": {},
   "source": [
    "## Exercise 8 :  Tidying a collaboration"
   ]
  },
  {
   "cell_type": "code",
   "execution_count": 5,
   "id": "134dd78f",
   "metadata": {},
   "outputs": [],
   "source": [
    "monthdictionary = { \n",
    "'jan': '01', 'feb': '02', 'mar': '03', \n",
    "'apr': '04', 'may': '05', 'jun': '06', \n",
    "'jul': '07', 'aug': '08', 'sep': '09', \n",
    "'oct': '10', 'nov': '11', 'dec': '12' \n",
    "} \n",
    " \n",
    " \n",
    "def rename_my_file(x): \n",
    "    month = (f'{x[0]}{x[1]}{x[2]}') \n",
    "    monthdictionary[month] \n",
    "    x = x.replace(month, monthdictionary[month]) \n",
    "    x = x.replace('_', '-') \n",
    "    return(x) \n"
   ]
  },
  {
   "cell_type": "code",
   "execution_count": 4,
   "id": "9cc2e01a",
   "metadata": {},
   "outputs": [
    {
     "data": {
      "text/plain": [
       "'02-08-singapore.txt'"
      ]
     },
     "execution_count": 4,
     "metadata": {},
     "output_type": "execute_result"
    }
   ],
   "source": [
    "rename_my_file('feb-08_singapore.txt')"
   ]
  },
  {
   "cell_type": "code",
   "execution_count": 11,
   "id": "82c258a2",
   "metadata": {},
   "outputs": [
    {
     "name": "stdout",
     "output_type": "stream",
     "text": [
      "10-08-singapore.txt\n",
      "07-10-cairo.txt\n",
      "05-15-dhaka.txt\n",
      "05-13-cairo.txt\n",
      "10-21-cairo.txt\n",
      "01-10-singapore.txt\n",
      "06-20-tokyo.txt\n",
      "08-06-jakarta.txt\n",
      "12-21-karachi.txt\n",
      "01-01-tokyo.txt\n"
     ]
    }
   ],
   "source": [
    "monthdictionary = { \n",
    "'jan': '01', 'feb': '02', 'mar': '03', \n",
    "'apr': '04', 'may': '05', 'jun': '06', \n",
    "'jul': '07', 'aug': '08', 'sep': '09', \n",
    "'oct': '10', 'nov': '11', 'dec': '12' \n",
    "} \n",
    " \n",
    " \n",
    "def rename_my_file(x): \n",
    "    month = (f'{x[0]}{x[1]}{x[2]}') \n",
    "    monthdictionary[month] \n",
    "    x = x.replace(month, monthdictionary[month]) \n",
    "    x = x.replace('_', '-') \n",
    "    return(x) \n",
    "\n",
    "new_list = ['oct-08_singapore.txt', 'jul-10_cairo.txt', 'may-15_dhaka.txt',\n",
    " 'may-13_cairo.txt', 'oct-21_cairo.txt', 'jan-10_singapore.txt',\n",
    " 'jun-20_tokyo.txt', 'aug-06_jakarta.txt', 'dec-21_karachi.txt',\n",
    " 'jan-01_tokyo.txt']\n",
    "\n",
    "for name in new_list: \n",
    "    rename_my_file(name)\n",
    "    print(rename_my_file(name))"
   ]
  },
  {
   "cell_type": "code",
   "execution_count": 12,
   "id": "8da91fb5",
   "metadata": {},
   "outputs": [],
   "source": [
    "for path_to_txt in glob.glob('*.txt'):\n",
    "    try:\n",
    "        current_file = path_to_txt\n",
    "        new_file = rename_my_file(path_to_txt)\n",
    "        os.rename(path_to_txt, new_list)\n",
    "    except:\n",
    "        continue"
   ]
  },
  {
   "cell_type": "code",
   "execution_count": 15,
   "id": "38181dd8",
   "metadata": {},
   "outputs": [],
   "source": [
    "cities = ['Cairo', 'Dhaka', 'Jakarta', 'Karachi', 'Manila',\n",
    " 'Melbourne', 'Osaka', 'Shanghai', 'Singapore', 'Tokyo']\n",
    "for city in cities:\n",
    "    try:\n",
    "        os.mkdir(city)\n",
    "    except:\n",
    "        continue"
   ]
  },
  {
   "cell_type": "code",
   "execution_count": 17,
   "id": "d817e384",
   "metadata": {},
   "outputs": [],
   "source": [
    "import os\n",
    "import glob\n",
    "import shutil\n",
    "os.chdir('/Users/adelefoo/Documents/GitHub/learning-portfolio-adelefoo27/files, folders and os') \n",
    "os.getcwd()\n",
    "\n",
    "for list_cairo in glob.glob('*cairo*.*'):\n",
    "    current_path = os.path.join(list_cairo)\n",
    "    new_path = os.path.join('Cairo', list_cairo)\n",
    "    shutil.copy(current_path, new_path)"
   ]
  },
  {
   "cell_type": "code",
   "execution_count": 18,
   "id": "5c4a36a5",
   "metadata": {},
   "outputs": [],
   "source": [
    "for city in ['Cairo', 'Dhaka', 'Jakarta', 'Karachi', 'Manila',\n",
    " 'Melbourne', 'Osaka', 'Shanghai', 'Singapore', 'Tokyo']:\n",
    "    try:\n",
    "        for cityfilesname in glob.glob(f'*{city}*.*'):\n",
    "            current_path = os.path.join(cityfilesname)\n",
    "            new_path = os.path.join(city, cityfilesname)\n",
    "            shutil.move(current_path, new_path)\n",
    "    except:\n",
    "        continue"
   ]
  }
 ],
 "metadata": {
  "kernelspec": {
   "display_name": "Python 3 (ipykernel)",
   "language": "python",
   "name": "python3"
  },
  "language_info": {
   "codemirror_mode": {
    "name": "ipython",
    "version": 3
   },
   "file_extension": ".py",
   "mimetype": "text/x-python",
   "name": "python",
   "nbconvert_exporter": "python",
   "pygments_lexer": "ipython3",
   "version": "3.10.8"
  },
  "toc": {
   "base_numbering": 1,
   "nav_menu": {},
   "number_sections": true,
   "sideBar": true,
   "skip_h1_title": false,
   "title_cell": "Table of Contents",
   "title_sidebar": "Contents",
   "toc_cell": false,
   "toc_position": {},
   "toc_section_display": true,
   "toc_window_display": false
  },
  "vscode": {
   "interpreter": {
    "hash": "31f2aee4e71d21fbe5cf8b01ff0e069b9275f58929596ceb00d14d90e3e16cd6"
   }
  }
 },
 "nbformat": 4,
 "nbformat_minor": 5
}
