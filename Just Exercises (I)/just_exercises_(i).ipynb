{
 "cells": [
  {
   "cell_type": "markdown",
   "id": "123456",
   "metadata": {},
   "source": [
    "<div style=\"text-align:left;font-size:2em\"><span style=\"font-weight:bolder;font-size:1.25em\">SP2273 | Learning Portfolio</span><br><br><span style=\"font-weight:bold;color:darkred\">Just Exercises (I)</span></div>"
   ]
  },
  {
   "cell_type": "markdown",
   "id": "a074650f",
   "metadata": {},
   "source": [
    "## Exercise 1 :  F-strings to the rescue"
   ]
  },
  {
   "cell_type": "code",
   "execution_count": 9,
   "id": "fbfa91c7",
   "metadata": {},
   "outputs": [
    {
     "name": "stdout",
     "output_type": "stream",
     "text": [
      "00001\n",
      "00002\n",
      "00003\n",
      "00004\n",
      "00005\n",
      "00006\n",
      "00007\n",
      "00008\n",
      "00009\n",
      "00010\n"
     ]
    }
   ],
   "source": [
    "number = 1\n",
    "\n",
    "while number < 11:\n",
    "    print(f\"{number:05d}\")\n",
    "    number +=1"
   ]
  },
  {
   "cell_type": "code",
   "execution_count": 15,
   "id": "2bf7b4f7",
   "metadata": {},
   "outputs": [
    {
     "name": "stdout",
     "output_type": "stream",
     "text": [
      "001          +\n",
      "002         ++\n",
      "003        +++\n",
      "004       ++++\n",
      "005      +++++\n",
      "006     ++++++\n",
      "007    +++++++\n",
      "008   ++++++++\n",
      "009  +++++++++\n",
      "010 ++++++++++\n"
     ]
    }
   ],
   "source": [
    "number = 1\n",
    "\n",
    "while number < 11:\n",
    "    print(f'{number:03d}' + ' '*(11-number) + '+'*number)\n",
    "    number +=1"
   ]
  },
  {
   "cell_type": "code",
   "execution_count": 16,
   "id": "17eff782",
   "metadata": {},
   "outputs": [
    {
     "name": "stdout",
     "output_type": "stream",
     "text": [
      "001 -+++++++++\n",
      "002 --++++++++\n",
      "003 ---+++++++\n",
      "004 ----++++++\n",
      "005 -----+++++\n",
      "006 ------++++\n",
      "007 -------+++\n",
      "008 --------++\n",
      "009 ---------+\n",
      "010 ----------\n"
     ]
    }
   ],
   "source": [
    "number = 1\n",
    "\n",
    "while number < 11:\n",
    "    print(f'{number:03d}' + ' ' + '-'*number + '+'*(10-number))\n",
    "    number +=1"
   ]
  },
  {
   "cell_type": "code",
   "execution_count": 25,
   "id": "aea32dc4",
   "metadata": {},
   "outputs": [
    {
     "name": "stdout",
     "output_type": "stream",
     "text": [
      "['bruce_eploits.txt', 'bruce_enemies.txt', 'bruce_friends.txt', 'natasha_eploits.txt', 'natasha_enemies.txt', 'natasha_friends.txt', 'tony_eploits.txt', 'tony_enemies.txt', 'tony_friends.txt']\n"
     ]
    }
   ],
   "source": [
    "x_list = []\n",
    "sequence_1 = ['bruce', 'natasha', 'tony']\n",
    "sequence_2 = ['eploits', 'enemies', 'friends']\n",
    "for name in sequence_1:\n",
    "    for label in sequence_2:\n",
    "        x_list.append(f'{name}_{label}.txt')\n",
    "print(x_list)"
   ]
  },
  {
   "cell_type": "code",
   "execution_count": 24,
   "id": "cc29d531",
   "metadata": {},
   "outputs": [
    {
     "name": "stdout",
     "output_type": "stream",
     "text": [
      "['data_sg_exp_01_trial-001.txt', 'data_gb_exp_01_trial-001.txt', 'data_us_exp_01_trial-001.txt', 'data_sg_exp_02_trial-001.txt', 'data_gb_exp_02_trial-001.txt', 'data_us_exp_02_trial-001.txt', 'data_sg_exp_03_trial-001.txt', 'data_gb_exp_03_trial-001.txt', 'data_us_exp_03_trial-001.txt', 'data_sg_exp_01_trial-002.txt', 'data_gb_exp_01_trial-002.txt', 'data_us_exp_01_trial-002.txt', 'data_sg_exp_02_trial-002.txt', 'data_gb_exp_02_trial-002.txt', 'data_us_exp_02_trial-002.txt', 'data_sg_exp_03_trial-002.txt', 'data_gb_exp_03_trial-002.txt', 'data_us_exp_03_trial-002.txt', 'data_sg_exp_01_trial-003.txt', 'data_gb_exp_01_trial-003.txt', 'data_us_exp_01_trial-003.txt', 'data_sg_exp_02_trial-003.txt', 'data_gb_exp_02_trial-003.txt', 'data_us_exp_02_trial-003.txt', 'data_sg_exp_03_trial-003.txt', 'data_gb_exp_03_trial-003.txt', 'data_us_exp_03_trial-003.txt', 'data_sg_exp_01_trial-004.txt', 'data_gb_exp_01_trial-004.txt', 'data_us_exp_01_trial-004.txt', 'data_sg_exp_02_trial-004.txt', 'data_gb_exp_02_trial-004.txt', 'data_us_exp_02_trial-004.txt', 'data_sg_exp_03_trial-004.txt', 'data_gb_exp_03_trial-004.txt', 'data_us_exp_03_trial-004.txt', 'data_sg_exp_01_trial-005.txt', 'data_gb_exp_01_trial-005.txt', 'data_us_exp_01_trial-005.txt', 'data_sg_exp_02_trial-005.txt', 'data_gb_exp_02_trial-005.txt', 'data_us_exp_02_trial-005.txt', 'data_sg_exp_03_trial-005.txt', 'data_gb_exp_03_trial-005.txt', 'data_us_exp_03_trial-005.txt', 'data_sg_exp_01_trial-006.txt', 'data_gb_exp_01_trial-006.txt', 'data_us_exp_01_trial-006.txt', 'data_sg_exp_02_trial-006.txt', 'data_gb_exp_02_trial-006.txt', 'data_us_exp_02_trial-006.txt', 'data_sg_exp_03_trial-006.txt', 'data_gb_exp_03_trial-006.txt', 'data_us_exp_03_trial-006.txt', 'data_sg_exp_01_trial-007.txt', 'data_gb_exp_01_trial-007.txt', 'data_us_exp_01_trial-007.txt', 'data_sg_exp_02_trial-007.txt', 'data_gb_exp_02_trial-007.txt', 'data_us_exp_02_trial-007.txt', 'data_sg_exp_03_trial-007.txt', 'data_gb_exp_03_trial-007.txt', 'data_us_exp_03_trial-007.txt', 'data_sg_exp_01_trial-008.txt', 'data_gb_exp_01_trial-008.txt', 'data_us_exp_01_trial-008.txt', 'data_sg_exp_02_trial-008.txt', 'data_gb_exp_02_trial-008.txt', 'data_us_exp_02_trial-008.txt', 'data_sg_exp_03_trial-008.txt', 'data_gb_exp_03_trial-008.txt', 'data_us_exp_03_trial-008.txt', 'data_sg_exp_01_trial-009.txt', 'data_gb_exp_01_trial-009.txt', 'data_us_exp_01_trial-009.txt', 'data_sg_exp_02_trial-009.txt', 'data_gb_exp_02_trial-009.txt', 'data_us_exp_02_trial-009.txt', 'data_sg_exp_03_trial-009.txt', 'data_gb_exp_03_trial-009.txt', 'data_us_exp_03_trial-009.txt', 'data_sg_exp_01_trial-010.txt', 'data_gb_exp_01_trial-010.txt', 'data_us_exp_01_trial-010.txt', 'data_sg_exp_02_trial-010.txt', 'data_gb_exp_02_trial-010.txt', 'data_us_exp_02_trial-010.txt', 'data_sg_exp_03_trial-010.txt', 'data_gb_exp_03_trial-010.txt', 'data_us_exp_03_trial-010.txt', 'data_sg_exp_01_trial-011.txt', 'data_gb_exp_01_trial-011.txt', 'data_us_exp_01_trial-011.txt', 'data_sg_exp_02_trial-011.txt', 'data_gb_exp_02_trial-011.txt', 'data_us_exp_02_trial-011.txt', 'data_sg_exp_03_trial-011.txt', 'data_gb_exp_03_trial-011.txt', 'data_us_exp_03_trial-011.txt', 'data_sg_exp_01_trial-012.txt', 'data_gb_exp_01_trial-012.txt', 'data_us_exp_01_trial-012.txt', 'data_sg_exp_02_trial-012.txt', 'data_gb_exp_02_trial-012.txt', 'data_us_exp_02_trial-012.txt', 'data_sg_exp_03_trial-012.txt', 'data_gb_exp_03_trial-012.txt', 'data_us_exp_03_trial-012.txt', 'data_sg_exp_01_trial-013.txt', 'data_gb_exp_01_trial-013.txt', 'data_us_exp_01_trial-013.txt', 'data_sg_exp_02_trial-013.txt', 'data_gb_exp_02_trial-013.txt', 'data_us_exp_02_trial-013.txt', 'data_sg_exp_03_trial-013.txt', 'data_gb_exp_03_trial-013.txt', 'data_us_exp_03_trial-013.txt', 'data_sg_exp_01_trial-014.txt', 'data_gb_exp_01_trial-014.txt', 'data_us_exp_01_trial-014.txt', 'data_sg_exp_02_trial-014.txt', 'data_gb_exp_02_trial-014.txt', 'data_us_exp_02_trial-014.txt', 'data_sg_exp_03_trial-014.txt', 'data_gb_exp_03_trial-014.txt', 'data_us_exp_03_trial-014.txt', 'data_sg_exp_01_trial-015.txt', 'data_gb_exp_01_trial-015.txt', 'data_us_exp_01_trial-015.txt', 'data_sg_exp_02_trial-015.txt', 'data_gb_exp_02_trial-015.txt', 'data_us_exp_02_trial-015.txt', 'data_sg_exp_03_trial-015.txt', 'data_gb_exp_03_trial-015.txt', 'data_us_exp_03_trial-015.txt', 'data_sg_exp_01_trial-016.txt', 'data_gb_exp_01_trial-016.txt', 'data_us_exp_01_trial-016.txt', 'data_sg_exp_02_trial-016.txt', 'data_gb_exp_02_trial-016.txt', 'data_us_exp_02_trial-016.txt', 'data_sg_exp_03_trial-016.txt', 'data_gb_exp_03_trial-016.txt', 'data_us_exp_03_trial-016.txt', 'data_sg_exp_01_trial-017.txt', 'data_gb_exp_01_trial-017.txt', 'data_us_exp_01_trial-017.txt', 'data_sg_exp_02_trial-017.txt', 'data_gb_exp_02_trial-017.txt', 'data_us_exp_02_trial-017.txt', 'data_sg_exp_03_trial-017.txt', 'data_gb_exp_03_trial-017.txt', 'data_us_exp_03_trial-017.txt', 'data_sg_exp_01_trial-018.txt', 'data_gb_exp_01_trial-018.txt', 'data_us_exp_01_trial-018.txt', 'data_sg_exp_02_trial-018.txt', 'data_gb_exp_02_trial-018.txt', 'data_us_exp_02_trial-018.txt', 'data_sg_exp_03_trial-018.txt', 'data_gb_exp_03_trial-018.txt', 'data_us_exp_03_trial-018.txt', 'data_sg_exp_01_trial-019.txt', 'data_gb_exp_01_trial-019.txt', 'data_us_exp_01_trial-019.txt', 'data_sg_exp_02_trial-019.txt', 'data_gb_exp_02_trial-019.txt', 'data_us_exp_02_trial-019.txt', 'data_sg_exp_03_trial-019.txt', 'data_gb_exp_03_trial-019.txt', 'data_us_exp_03_trial-019.txt', 'data_sg_exp_01_trial-020.txt', 'data_gb_exp_01_trial-020.txt', 'data_us_exp_01_trial-020.txt', 'data_sg_exp_02_trial-020.txt', 'data_gb_exp_02_trial-020.txt', 'data_us_exp_02_trial-020.txt', 'data_sg_exp_03_trial-020.txt', 'data_gb_exp_03_trial-020.txt', 'data_us_exp_03_trial-020.txt', 'data_sg_exp_01_trial-021.txt', 'data_gb_exp_01_trial-021.txt', 'data_us_exp_01_trial-021.txt', 'data_sg_exp_02_trial-021.txt', 'data_gb_exp_02_trial-021.txt', 'data_us_exp_02_trial-021.txt', 'data_sg_exp_03_trial-021.txt', 'data_gb_exp_03_trial-021.txt', 'data_us_exp_03_trial-021.txt', 'data_sg_exp_01_trial-022.txt', 'data_gb_exp_01_trial-022.txt', 'data_us_exp_01_trial-022.txt', 'data_sg_exp_02_trial-022.txt', 'data_gb_exp_02_trial-022.txt', 'data_us_exp_02_trial-022.txt', 'data_sg_exp_03_trial-022.txt', 'data_gb_exp_03_trial-022.txt', 'data_us_exp_03_trial-022.txt', 'data_sg_exp_01_trial-023.txt', 'data_gb_exp_01_trial-023.txt', 'data_us_exp_01_trial-023.txt', 'data_sg_exp_02_trial-023.txt', 'data_gb_exp_02_trial-023.txt', 'data_us_exp_02_trial-023.txt', 'data_sg_exp_03_trial-023.txt', 'data_gb_exp_03_trial-023.txt', 'data_us_exp_03_trial-023.txt', 'data_sg_exp_01_trial-024.txt', 'data_gb_exp_01_trial-024.txt', 'data_us_exp_01_trial-024.txt', 'data_sg_exp_02_trial-024.txt', 'data_gb_exp_02_trial-024.txt', 'data_us_exp_02_trial-024.txt', 'data_sg_exp_03_trial-024.txt', 'data_gb_exp_03_trial-024.txt', 'data_us_exp_03_trial-024.txt', 'data_sg_exp_01_trial-025.txt', 'data_gb_exp_01_trial-025.txt', 'data_us_exp_01_trial-025.txt', 'data_sg_exp_02_trial-025.txt', 'data_gb_exp_02_trial-025.txt', 'data_us_exp_02_trial-025.txt', 'data_sg_exp_03_trial-025.txt', 'data_gb_exp_03_trial-025.txt', 'data_us_exp_03_trial-025.txt', 'data_sg_exp_01_trial-026.txt', 'data_gb_exp_01_trial-026.txt', 'data_us_exp_01_trial-026.txt', 'data_sg_exp_02_trial-026.txt', 'data_gb_exp_02_trial-026.txt', 'data_us_exp_02_trial-026.txt', 'data_sg_exp_03_trial-026.txt', 'data_gb_exp_03_trial-026.txt', 'data_us_exp_03_trial-026.txt', 'data_sg_exp_01_trial-027.txt', 'data_gb_exp_01_trial-027.txt', 'data_us_exp_01_trial-027.txt', 'data_sg_exp_02_trial-027.txt', 'data_gb_exp_02_trial-027.txt', 'data_us_exp_02_trial-027.txt', 'data_sg_exp_03_trial-027.txt', 'data_gb_exp_03_trial-027.txt', 'data_us_exp_03_trial-027.txt', 'data_sg_exp_01_trial-028.txt', 'data_gb_exp_01_trial-028.txt', 'data_us_exp_01_trial-028.txt', 'data_sg_exp_02_trial-028.txt', 'data_gb_exp_02_trial-028.txt', 'data_us_exp_02_trial-028.txt', 'data_sg_exp_03_trial-028.txt', 'data_gb_exp_03_trial-028.txt', 'data_us_exp_03_trial-028.txt', 'data_sg_exp_01_trial-029.txt', 'data_gb_exp_01_trial-029.txt', 'data_us_exp_01_trial-029.txt', 'data_sg_exp_02_trial-029.txt', 'data_gb_exp_02_trial-029.txt', 'data_us_exp_02_trial-029.txt', 'data_sg_exp_03_trial-029.txt', 'data_gb_exp_03_trial-029.txt', 'data_us_exp_03_trial-029.txt', 'data_sg_exp_01_trial-030.txt', 'data_gb_exp_01_trial-030.txt', 'data_us_exp_01_trial-030.txt', 'data_sg_exp_02_trial-030.txt', 'data_gb_exp_02_trial-030.txt', 'data_us_exp_02_trial-030.txt', 'data_sg_exp_03_trial-030.txt', 'data_gb_exp_03_trial-030.txt', 'data_us_exp_03_trial-030.txt', 'data_sg_exp_01_trial-031.txt', 'data_gb_exp_01_trial-031.txt', 'data_us_exp_01_trial-031.txt', 'data_sg_exp_02_trial-031.txt', 'data_gb_exp_02_trial-031.txt', 'data_us_exp_02_trial-031.txt', 'data_sg_exp_03_trial-031.txt', 'data_gb_exp_03_trial-031.txt', 'data_us_exp_03_trial-031.txt', 'data_sg_exp_01_trial-032.txt', 'data_gb_exp_01_trial-032.txt', 'data_us_exp_01_trial-032.txt', 'data_sg_exp_02_trial-032.txt', 'data_gb_exp_02_trial-032.txt', 'data_us_exp_02_trial-032.txt', 'data_sg_exp_03_trial-032.txt', 'data_gb_exp_03_trial-032.txt', 'data_us_exp_03_trial-032.txt', 'data_sg_exp_01_trial-033.txt', 'data_gb_exp_01_trial-033.txt', 'data_us_exp_01_trial-033.txt', 'data_sg_exp_02_trial-033.txt', 'data_gb_exp_02_trial-033.txt', 'data_us_exp_02_trial-033.txt', 'data_sg_exp_03_trial-033.txt', 'data_gb_exp_03_trial-033.txt', 'data_us_exp_03_trial-033.txt', 'data_sg_exp_01_trial-034.txt', 'data_gb_exp_01_trial-034.txt', 'data_us_exp_01_trial-034.txt', 'data_sg_exp_02_trial-034.txt', 'data_gb_exp_02_trial-034.txt', 'data_us_exp_02_trial-034.txt', 'data_sg_exp_03_trial-034.txt', 'data_gb_exp_03_trial-034.txt', 'data_us_exp_03_trial-034.txt', 'data_sg_exp_01_trial-035.txt', 'data_gb_exp_01_trial-035.txt', 'data_us_exp_01_trial-035.txt', 'data_sg_exp_02_trial-035.txt', 'data_gb_exp_02_trial-035.txt', 'data_us_exp_02_trial-035.txt', 'data_sg_exp_03_trial-035.txt', 'data_gb_exp_03_trial-035.txt', 'data_us_exp_03_trial-035.txt', 'data_sg_exp_01_trial-036.txt', 'data_gb_exp_01_trial-036.txt', 'data_us_exp_01_trial-036.txt', 'data_sg_exp_02_trial-036.txt', 'data_gb_exp_02_trial-036.txt', 'data_us_exp_02_trial-036.txt', 'data_sg_exp_03_trial-036.txt', 'data_gb_exp_03_trial-036.txt', 'data_us_exp_03_trial-036.txt', 'data_sg_exp_01_trial-037.txt', 'data_gb_exp_01_trial-037.txt', 'data_us_exp_01_trial-037.txt', 'data_sg_exp_02_trial-037.txt', 'data_gb_exp_02_trial-037.txt', 'data_us_exp_02_trial-037.txt', 'data_sg_exp_03_trial-037.txt', 'data_gb_exp_03_trial-037.txt', 'data_us_exp_03_trial-037.txt', 'data_sg_exp_01_trial-038.txt', 'data_gb_exp_01_trial-038.txt', 'data_us_exp_01_trial-038.txt', 'data_sg_exp_02_trial-038.txt', 'data_gb_exp_02_trial-038.txt', 'data_us_exp_02_trial-038.txt', 'data_sg_exp_03_trial-038.txt', 'data_gb_exp_03_trial-038.txt', 'data_us_exp_03_trial-038.txt', 'data_sg_exp_01_trial-039.txt', 'data_gb_exp_01_trial-039.txt', 'data_us_exp_01_trial-039.txt', 'data_sg_exp_02_trial-039.txt', 'data_gb_exp_02_trial-039.txt', 'data_us_exp_02_trial-039.txt', 'data_sg_exp_03_trial-039.txt', 'data_gb_exp_03_trial-039.txt', 'data_us_exp_03_trial-039.txt', 'data_sg_exp_01_trial-040.txt', 'data_gb_exp_01_trial-040.txt', 'data_us_exp_01_trial-040.txt', 'data_sg_exp_02_trial-040.txt', 'data_gb_exp_02_trial-040.txt', 'data_us_exp_02_trial-040.txt', 'data_sg_exp_03_trial-040.txt', 'data_gb_exp_03_trial-040.txt', 'data_us_exp_03_trial-040.txt', 'data_sg_exp_01_trial-041.txt', 'data_gb_exp_01_trial-041.txt', 'data_us_exp_01_trial-041.txt', 'data_sg_exp_02_trial-041.txt', 'data_gb_exp_02_trial-041.txt', 'data_us_exp_02_trial-041.txt', 'data_sg_exp_03_trial-041.txt', 'data_gb_exp_03_trial-041.txt', 'data_us_exp_03_trial-041.txt', 'data_sg_exp_01_trial-042.txt', 'data_gb_exp_01_trial-042.txt', 'data_us_exp_01_trial-042.txt', 'data_sg_exp_02_trial-042.txt', 'data_gb_exp_02_trial-042.txt', 'data_us_exp_02_trial-042.txt', 'data_sg_exp_03_trial-042.txt', 'data_gb_exp_03_trial-042.txt', 'data_us_exp_03_trial-042.txt', 'data_sg_exp_01_trial-043.txt', 'data_gb_exp_01_trial-043.txt', 'data_us_exp_01_trial-043.txt', 'data_sg_exp_02_trial-043.txt', 'data_gb_exp_02_trial-043.txt', 'data_us_exp_02_trial-043.txt', 'data_sg_exp_03_trial-043.txt', 'data_gb_exp_03_trial-043.txt', 'data_us_exp_03_trial-043.txt', 'data_sg_exp_01_trial-044.txt', 'data_gb_exp_01_trial-044.txt', 'data_us_exp_01_trial-044.txt', 'data_sg_exp_02_trial-044.txt', 'data_gb_exp_02_trial-044.txt', 'data_us_exp_02_trial-044.txt', 'data_sg_exp_03_trial-044.txt', 'data_gb_exp_03_trial-044.txt', 'data_us_exp_03_trial-044.txt', 'data_sg_exp_01_trial-045.txt', 'data_gb_exp_01_trial-045.txt', 'data_us_exp_01_trial-045.txt', 'data_sg_exp_02_trial-045.txt', 'data_gb_exp_02_trial-045.txt', 'data_us_exp_02_trial-045.txt', 'data_sg_exp_03_trial-045.txt', 'data_gb_exp_03_trial-045.txt', 'data_us_exp_03_trial-045.txt', 'data_sg_exp_01_trial-046.txt', 'data_gb_exp_01_trial-046.txt', 'data_us_exp_01_trial-046.txt', 'data_sg_exp_02_trial-046.txt', 'data_gb_exp_02_trial-046.txt', 'data_us_exp_02_trial-046.txt', 'data_sg_exp_03_trial-046.txt', 'data_gb_exp_03_trial-046.txt', 'data_us_exp_03_trial-046.txt', 'data_sg_exp_01_trial-047.txt', 'data_gb_exp_01_trial-047.txt', 'data_us_exp_01_trial-047.txt', 'data_sg_exp_02_trial-047.txt', 'data_gb_exp_02_trial-047.txt', 'data_us_exp_02_trial-047.txt', 'data_sg_exp_03_trial-047.txt', 'data_gb_exp_03_trial-047.txt', 'data_us_exp_03_trial-047.txt', 'data_sg_exp_01_trial-048.txt', 'data_gb_exp_01_trial-048.txt', 'data_us_exp_01_trial-048.txt', 'data_sg_exp_02_trial-048.txt', 'data_gb_exp_02_trial-048.txt', 'data_us_exp_02_trial-048.txt', 'data_sg_exp_03_trial-048.txt', 'data_gb_exp_03_trial-048.txt', 'data_us_exp_03_trial-048.txt', 'data_sg_exp_01_trial-049.txt', 'data_gb_exp_01_trial-049.txt', 'data_us_exp_01_trial-049.txt', 'data_sg_exp_02_trial-049.txt', 'data_gb_exp_02_trial-049.txt', 'data_us_exp_02_trial-049.txt', 'data_sg_exp_03_trial-049.txt', 'data_gb_exp_03_trial-049.txt', 'data_us_exp_03_trial-049.txt', 'data_sg_exp_01_trial-050.txt', 'data_gb_exp_01_trial-050.txt', 'data_us_exp_01_trial-050.txt', 'data_sg_exp_02_trial-050.txt', 'data_gb_exp_02_trial-050.txt', 'data_us_exp_02_trial-050.txt', 'data_sg_exp_03_trial-050.txt', 'data_gb_exp_03_trial-050.txt', 'data_us_exp_03_trial-050.txt']\n"
     ]
    }
   ],
   "source": [
    "x_list = []\n",
    "sequence_1 = [number for number in range(1, 51)]\n",
    "sequence_2 = [number for number in range(1, 4)]\n",
    "sequence_3 = ['sg', 'gb', 'us']\n",
    "for number in sequence_1:\n",
    "    for label in sequence_2:\n",
    "        for country in sequence_3:\n",
    "            x_list.append(f'data_{country}_exp_{label:02d}_trial-{number:03d}.txt')\n",
    "print(x_list)"
   ]
  },
  {
   "cell_type": "markdown",
   "id": "60e22b6a",
   "metadata": {},
   "source": [
    "## Exercise 2 :  Tutti frutti"
   ]
  },
  {
   "cell_type": "code",
   "execution_count": 26,
   "id": "d6704cfc",
   "metadata": {},
   "outputs": [
    {
     "data": {
      "text/plain": [
       "False"
      ]
     },
     "execution_count": 26,
     "metadata": {},
     "output_type": "execute_result"
    }
   ],
   "source": [
    "fruits = [\"apple\", \"banana\", \"pineapple\", \"jackfruit\",\n",
    "        \"peach\", \"durian\", \"watermelon\", \"mango\",\n",
    "        \"strawberry\", \"passionfruit\"]\n",
    "'mango' in 'fruits'"
   ]
  },
  {
   "cell_type": "code",
   "execution_count": 10,
   "id": "743549b2",
   "metadata": {},
   "outputs": [
    {
     "name": "stdout",
     "output_type": "stream",
     "text": [
      "a, e\n",
      "b, a\n",
      "p, e\n",
      "j, t\n",
      "p, h\n",
      "d, n\n",
      "w, n\n",
      "m, o\n",
      "s, y\n",
      "p, t\n"
     ]
    }
   ],
   "source": [
    "fruits = [\"apple\", \"banana\", \"pineapple\", \"jackfruit\",\n",
    "        \"peach\", \"durian\", \"watermelon\", \"mango\",\n",
    "        \"strawberry\", \"passionfruit\"]\n",
    "for fruit in fruits:\n",
    "    print(f'{fruit[0]}, {fruit[-1]}')"
   ]
  },
  {
   "cell_type": "code",
   "execution_count": 18,
   "id": "70b22129",
   "metadata": {},
   "outputs": [
    {
     "name": "stdout",
     "output_type": "stream",
     "text": [
      "apple\n",
      "banana\n",
      "PINEAPPLE\n",
      "jackfruit\n",
      "PEACH\n",
      "durian\n",
      "watermelon\n",
      "mango\n",
      "strawberry\n",
      "PASSIONFRUIT\n"
     ]
    }
   ],
   "source": [
    "for fruit in fruits:\n",
    "    if fruit[0] == 'p':\n",
    "        print(fruit.upper())\n",
    "    else:\n",
    "        print(fruit)"
   ]
  },
  {
   "cell_type": "code",
   "execution_count": 21,
   "id": "30604d22",
   "metadata": {},
   "outputs": [
    {
     "data": {
      "text/plain": [
       "['apple',\n",
       " 'banana',\n",
       " 'pineapple',\n",
       " 'jackfruit',\n",
       " 'peach',\n",
       " 'dragon fruit',\n",
       " 'apricots',\n",
       " 'oranges',\n",
       " 'durian',\n",
       " 'watermelon',\n",
       " 'mango',\n",
       " 'strawberry',\n",
       " 'passionfruit']"
      ]
     },
     "execution_count": 21,
     "metadata": {},
     "output_type": "execute_result"
    }
   ],
   "source": [
    "fruit = [\"dragon fruit\", \"apricots\", \"oranges\"]\n",
    "fruits = [\"durian\", \"watermelon\", \"mango\",\n",
    "        \"strawberry\", \"passionfruit\"]\n",
    "fruits = [\"apple\", \"banana\", \"pineapple\", \"jackfruit\",\n",
    "        \"peach\"] + fruit + fruits\n",
    "fruits"
   ]
  },
  {
   "cell_type": "code",
   "execution_count": 28,
   "id": "d21d6db2",
   "metadata": {},
   "outputs": [
    {
     "name": "stdout",
     "output_type": "stream",
     "text": [
      "pineapple\n",
      "jackfruit\n",
      "dragon fruit\n",
      "watermelon\n",
      "strawberry\n",
      "passionfruit\n"
     ]
    }
   ],
   "source": [
    "for fruit in fruits:\n",
    "    if len(fruit) > 8:\n",
    "        print(fruit)"
   ]
  },
  {
   "cell_type": "markdown",
   "id": "ea0e6c43",
   "metadata": {},
   "source": [
    "## Exercise 3 :  Ciao Fibonacci"
   ]
  },
  {
   "cell_type": "code",
   "execution_count": 32,
   "id": "1a9345bc",
   "metadata": {},
   "outputs": [
    {
     "name": "stdout",
     "output_type": "stream",
     "text": [
      "[0, 1, 1, 2, 3, 5, 8, 13, 21, 34, 55, 89, 144, 233, 377]\n"
     ]
    }
   ],
   "source": [
    "fibonnaci=[0, 1]\n",
    "for i in range(2, 15):\n",
    "    number = fibonnaci[i-1] + fibonnaci[i-2]\n",
    "    fibonnaci.append(number)\n",
    "print(fibonnaci)"
   ]
  },
  {
   "cell_type": "markdown",
   "id": "6de493ed",
   "metadata": {},
   "source": [
    "## Exercise 4 :  A function for Fibonacci"
   ]
  },
  {
   "cell_type": "code",
   "execution_count": 4,
   "id": "4b71c16d",
   "metadata": {},
   "outputs": [
    {
     "data": {
      "text/plain": [
       "[0, 1, 1, 2, 3, 5, 8, 13, 21, 34, 55, 89, 144, 233, 377]"
      ]
     },
     "execution_count": 4,
     "metadata": {},
     "output_type": "execute_result"
    }
   ],
   "source": [
    "def fibonacci(n):\n",
    "    if n in {0, 1}:  \n",
    "         return n\n",
    "    return fibonacci(n - 1) + fibonacci(n - 2)  \n",
    "[fibonacci(n) for n in range(15)]"
   ]
  },
  {
   "cell_type": "markdown",
   "id": "4f4fefd1",
   "metadata": {},
   "source": [
    "## Exercise 5 :  max_info() without NumPy"
   ]
  },
  {
   "cell_type": "code",
   "execution_count": 17,
   "id": "74259907",
   "metadata": {},
   "outputs": [
    {
     "data": {
      "text/plain": [
       "83"
      ]
     },
     "execution_count": 17,
     "metadata": {},
     "output_type": "execute_result"
    }
   ],
   "source": [
    "numbers = [40, 27, 83, 44, 74, 51, 76, 77, 10, 49]\n",
    "my_max = numbers[0]\n",
    "\n",
    "for x in numbers:\n",
    "    if x > my_max:\n",
    "        my_max = x\n",
    "\n",
    "my_max"
   ]
  },
  {
   "cell_type": "code",
   "execution_count": 44,
   "id": "78ec4a05",
   "metadata": {},
   "outputs": [
    {
     "name": "stdout",
     "output_type": "stream",
     "text": [
      "(83, 2)\n"
     ]
    }
   ],
   "source": [
    "numbers = [40, 27, 83, 44, 74, 51, 76, 77, 10, 49] \n",
    " \n",
    " \n",
    "def max_info(numbers): \n",
    "    my_max = numbers[0] \n",
    "    for x in numbers: \n",
    "        if x > my_max: \n",
    "            my_max = x \n",
    "    for y in range(len(numbers)): \n",
    "        if numbers[y] == my_max: \n",
    "            my_max_index = y \n",
    "            return my_max, my_max_index \n",
    "print (max_info(numbers))"
   ]
  },
  {
   "cell_type": "markdown",
   "id": "a2d2fdcb",
   "metadata": {},
   "source": [
    "## Exercise 6 :  Take count"
   ]
  },
  {
   "cell_type": "code",
   "execution_count": 43,
   "id": "f6314543",
   "metadata": {},
   "outputs": [
    {
     "name": "stdout",
     "output_type": "stream",
     "text": [
      "254 247 250 249\n"
     ]
    },
    {
     "data": {
      "text/plain": [
       "{'T': '254', 'A': '247', 'C': '250', 'G': '249'}"
      ]
     },
     "execution_count": 43,
     "metadata": {},
     "output_type": "execute_result"
    }
   ],
   "source": [
    "DNA = 'AGGCAAGAAGCTAGAATTCTGGCCTGAGTATCTCAGTACAGGCGCAGTCGAATCTTCCGGAATCACATTGCTCGCGCTTAAACCCGCTCTAAACCTTTGAGTAATTCGACGACATTGGGTTCCCTCCGACGCTGTCTGACAACTCTTTAAGATCCTTGGCACGATGTCGATAGACATTGTCCCTGATGACGCCTCACAAGGTAACCTGGCTCTAGTAGGGTGGTCTTTGCTGCGGAACTTACCACCTGGTGGATCCAAGCACCAGAGGAGTTCGAAGAGGCTGGGGTACCCCCTATTTAGGAAGGGCGAGACTACGGTCACAAATTCCAAATGGCTTCCCTCGATTCATGACGCCAGAATGCCTGGCTGTGCCAATTTGTCGCCTTGCGTCGTTCTGTCAATCTTTACTCGTGTCGTGTTGTGATAAATGACAAACCCTGCACAACGTAGGGCTCACACAAGGGAATCTAGAGTATCCGATACAGGGAGCTTTAGCTTCCGTCCCTTATAGCCTGCCATATTCTTGCGGTAGCACGAGCCTCAGATCTTCTCACTCCGGAAATGGGAGCTTCGACGGTCAAGGGCTAAGACGTCTTCGGGAGAAATACCTAGGCGATGACCCTGAGTGGTTTTCCGCGTATAACTCATCCTGGTTGCAAATGATTACCGTTATAGCCTGGGGATATGCCTCAATTCCGAACCCAGGAGCATCACTCGAGCAATAGCGGTAAAGGAGGCTATTAGCAAAATTGTCACGATAAGCGCCGTTGTAGTGAAATTAAGATACATACATCGTTTAGCACATCACTCTCACGGCGTCTAGAAGCTGATCTTCATATGCTGACTCAGAAGGCTCGGATAATAGAGGACGAAGGTAGTTTACTCATCGCTGCCCCGACTATTACGTGTGCATGATAAAGTCTGACCCTGACGTTCCCAAGCCGAGGCAGAGGGGTTTTACGCTGAATGTCCGCTCTCTGTCGGATGATTTCGGAAGCTG'\n",
    "DNA_list = [*DNA]\n",
    "\n",
    "len([base for base in DNA_list if base == 'T'])\n",
    "\n",
    "something = []\n",
    "for letter in DNA_list:\n",
    "    if letter == 'T':\n",
    "        something.append(letter)\n",
    "t=len(something)\n",
    "\n",
    "thing = []\n",
    "for letter in DNA_list:\n",
    "    if letter == 'A':\n",
    "        thing.append(letter)\n",
    "a=len(thing)\n",
    "\n",
    "some = []\n",
    "for letter in DNA_list:\n",
    "    if letter == 'C':\n",
    "        some.append(letter)\n",
    "c=len(some)\n",
    "\n",
    "last = []\n",
    "for letter in DNA_list: \n",
    "    if letter == 'G':\n",
    "        last.append(letter)\n",
    "g=len(last)\n",
    "\n",
    "print(t, a, c ,g)\n",
    "Base_list = ['T', 'A', 'C', 'G']\n",
    "Number_list = ['254', '247', '250', '249']\n",
    "dict(zip(Base_list, Number_list))"
   ]
  },
  {
   "cell_type": "code",
   "execution_count": null,
   "id": "959c45e2",
   "metadata": {},
   "outputs": [],
   "source": [
    "import numpy as np\n"
   ]
  },
  {
   "cell_type": "code",
   "execution_count": null,
   "id": "9b14e631",
   "metadata": {},
   "outputs": [],
   "source": []
  }
 ],
 "metadata": {
  "kernelspec": {
   "display_name": "Python 3 (ipykernel)",
   "language": "python",
   "name": "python3"
  },
  "language_info": {
   "codemirror_mode": {
    "name": "ipython",
    "version": 3
   },
   "file_extension": ".py",
   "mimetype": "text/x-python",
   "name": "python",
   "nbconvert_exporter": "python",
   "pygments_lexer": "ipython3",
   "version": "3.10.8"
  },
  "toc": {
   "base_numbering": 1,
   "nav_menu": {},
   "number_sections": true,
   "sideBar": true,
   "skip_h1_title": false,
   "title_cell": "Table of Contents",
   "title_sidebar": "Contents",
   "toc_cell": false,
   "toc_position": {},
   "toc_section_display": true,
   "toc_window_display": false
  },
  "vscode": {
   "interpreter": {
    "hash": "31f2aee4e71d21fbe5cf8b01ff0e069b9275f58929596ceb00d14d90e3e16cd6"
   }
  }
 },
 "nbformat": 4,
 "nbformat_minor": 5
}
